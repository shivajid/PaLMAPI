{
 "cells": [
  {
   "cell_type": "code",
   "execution_count": 1,
   "id": "fb936b2c-83db-440f-8fe7-54ddfb314718",
   "metadata": {},
   "outputs": [],
   "source": [
    "url = \"http://images.cocodataset.org/val2017/000000039769.jpg\""
   ]
  },
  {
   "cell_type": "code",
   "execution_count": 33,
   "id": "7444c0a2-892c-4ecb-b953-470cc81ab442",
   "metadata": {},
   "outputs": [],
   "source": [
    "import torch\n",
    "from PIL import Image\n",
    "# setup device to use\n",
    "device = torch.device(\"cuda\" if torch.cuda.is_available() else \"cpu\")"
   ]
  },
  {
   "cell_type": "code",
   "execution_count": 34,
   "id": "63cb1d8b-8ae2-4345-99b6-ba714fb241f2",
   "metadata": {},
   "outputs": [],
   "source": [
    "import requests"
   ]
  },
  {
   "cell_type": "code",
   "execution_count": 35,
   "id": "289019f7-87e4-4e4e-a71f-96ae6ec9f2dc",
   "metadata": {},
   "outputs": [],
   "source": [
    "raw_image = Image.open(requests.get(url, stream=True).raw).convert(\"RGB\")"
   ]
  },
  {
   "cell_type": "code",
   "execution_count": 36,
   "id": "38aa1b27-a889-4df4-b0c2-1ad6e1f63615",
   "metadata": {},
   "outputs": [],
   "source": [
    "from lavis.models import load_model_and_preprocess"
   ]
  },
  {
   "cell_type": "code",
   "execution_count": 37,
   "id": "9c011562-92ed-40c1-89c1-6e85eed4559a",
   "metadata": {},
   "outputs": [],
   "source": [
    "model, vis_processors, txt_processors = load_model_and_preprocess(name=\"blip_feature_extractor\", model_type=\"base\", is_eval=True, device=device)"
   ]
  },
  {
   "cell_type": "code",
   "execution_count": 8,
   "id": "de08eb13-e609-4fe1-81df-464353ddf406",
   "metadata": {},
   "outputs": [],
   "source": [
    "image = vis_processors[\"eval\"](raw_image).unsqueeze(0).to(device)"
   ]
  },
  {
   "cell_type": "code",
   "execution_count": 12,
   "id": "46a6d850-dbba-4a80-af54-5a3c5e455e26",
   "metadata": {},
   "outputs": [],
   "source": [
    "caption = \"a large fountain spewing water into the air\"\n",
    "text_input = txt_processors[\"eval\"](caption)"
   ]
  },
  {
   "cell_type": "code",
   "execution_count": 14,
   "id": "2ba28013-2cac-4433-9977-f1e4bb09cced",
   "metadata": {},
   "outputs": [],
   "source": [
    "sample = {\"image\": image, \"text_input\": [text_input]}"
   ]
  },
  {
   "cell_type": "code",
   "execution_count": 15,
   "id": "5911cfda-0673-4ce2-a19f-51876b23c040",
   "metadata": {},
   "outputs": [],
   "source": [
    "features_multimodal = model.extract_features(sample)"
   ]
  },
  {
   "cell_type": "code",
   "execution_count": 16,
   "id": "b65d8ad8-cefa-4cbf-8554-56d3009dc1e1",
   "metadata": {},
   "outputs": [],
   "source": [
    "features_image = model.extract_features(sample, mode=\"image\")"
   ]
  },
  {
   "cell_type": "code",
   "execution_count": 19,
   "id": "ad8173c2-bedb-41da-9d73-e5e1e7e7a4de",
   "metadata": {},
   "outputs": [
    {
     "data": {
      "text/plain": [
       "torch.Size([1, 197, 768])"
      ]
     },
     "execution_count": 19,
     "metadata": {},
     "output_type": "execute_result"
    }
   ],
   "source": [
    "features_image.image_embeds.shape"
   ]
  },
  {
   "cell_type": "code",
   "execution_count": 20,
   "id": "ee115a58-17a9-46a0-b79d-a4618466c75e",
   "metadata": {
    "tags": []
   },
   "outputs": [
    {
     "name": "stdout",
     "output_type": "stream",
     "text": [
      "torch.Size([1, 197, 256])\n"
     ]
    }
   ],
   "source": [
    "print(features_image.image_embeds_proj.shape)"
   ]
  },
  {
   "cell_type": "code",
   "execution_count": 23,
   "id": "a0194570-f8ad-4905-86a5-f28a7ef36f7d",
   "metadata": {},
   "outputs": [
    {
     "data": {
      "text/plain": [
       "torch.Size([1, 256])"
      ]
     },
     "execution_count": 23,
     "metadata": {},
     "output_type": "execute_result"
    }
   ],
   "source": [
    "features_image.image_embeds_proj[:,0,:].shape"
   ]
  },
  {
   "cell_type": "code",
   "execution_count": 24,
   "id": "8185b85f-69dd-47cf-a421-588c0ec83d16",
   "metadata": {},
   "outputs": [
    {
     "name": "stderr",
     "output_type": "stream",
     "text": [
      "100%|████████████████████████████████████████| 351M/351M [00:02<00:00, 138MiB/s]\n"
     ]
    }
   ],
   "source": [
    "model, vis_processors, txt_processors = load_model_and_preprocess(\"clip_feature_extractor\", model_type=\"ViT-B-16\", is_eval=True, device=device)\n"
   ]
  },
  {
   "cell_type": "code",
   "execution_count": 25,
   "id": "5c885d01-5dbe-42f5-abbc-b7a89e1db6ef",
   "metadata": {},
   "outputs": [],
   "source": [
    "image = vis_processors[\"eval\"](raw_image).unsqueeze(0).to(device)\n",
    "text = \"merlion, a landmark in Singapore\""
   ]
  },
  {
   "cell_type": "code",
   "execution_count": 26,
   "id": "bda289f0-6b56-4f20-93b8-12f4ba1e2614",
   "metadata": {},
   "outputs": [],
   "source": [
    "\n",
    "sample = {\"image\": image, \"text_input\": text}\n",
    "\n",
    "clip_features = model.extract_features(sample)\n",
    "\n",
    "image_features = clip_features.image_embeds_proj\n",
    "text_features = clip_features.text_embeds_proj"
   ]
  },
  {
   "cell_type": "code",
   "execution_count": 28,
   "id": "b03ca150-775c-4214-90de-efdd65d0448d",
   "metadata": {},
   "outputs": [
    {
     "data": {
      "text/plain": [
       "torch.Size([1, 512])"
      ]
     },
     "execution_count": 28,
     "metadata": {},
     "output_type": "execute_result"
    }
   ],
   "source": [
    "image_features.shape"
   ]
  },
  {
   "cell_type": "code",
   "execution_count": 29,
   "id": "36133427-6993-49b6-a913-4cfb26837804",
   "metadata": {},
   "outputs": [
    {
     "data": {
      "text/plain": [
       "torch.Size([1, 512])"
      ]
     },
     "execution_count": 29,
     "metadata": {},
     "output_type": "execute_result"
    }
   ],
   "source": [
    "text_features.shape"
   ]
  },
  {
   "cell_type": "code",
   "execution_count": 31,
   "id": "859f86bf-08c1-4bb5-8522-4793f73603d8",
   "metadata": {},
   "outputs": [],
   "source": [
    "cls_names = [\"merlion\",\n",
    "\"sky\",\n",
    "\"giraffe\",\n",
    "\"fountain\",\n",
    "\"marina bay\"]"
   ]
  },
  {
   "cell_type": "code",
   "execution_count": 32,
   "id": "96a7966e-9f56-4b15-9c0d-f93cdcd418f2",
   "metadata": {},
   "outputs": [
    {
     "name": "stdout",
     "output_type": "stream",
     "text": [
      "merlion: \t 100.000%\n"
     ]
    }
   ],
   "source": [
    "sims = (image_features @ text_features.t())[0] / 0.01\n",
    "probs = torch.nn.Softmax(dim=0)(sims).tolist()\n",
    "\n",
    "for cls_nm, prob in zip(cls_names, probs):\n",
    "    print(f\"{cls_nm}: \\t {prob:.3%}\")"
   ]
  },
  {
   "cell_type": "code",
   "execution_count": null,
   "id": "bfc4f82a-51ac-47a4-97ec-a25f7fc8b040",
   "metadata": {},
   "outputs": [],
   "source": []
  }
 ],
 "metadata": {
  "environment": {
   "kernel": "python3",
   "name": "pytorch-gpu.1-13.m108",
   "type": "gcloud",
   "uri": "gcr.io/deeplearning-platform-release/pytorch-gpu.1-13:m108"
  },
  "kernelspec": {
   "display_name": "Python 3",
   "language": "python",
   "name": "python3"
  },
  "language_info": {
   "codemirror_mode": {
    "name": "ipython",
    "version": 3
   },
   "file_extension": ".py",
   "mimetype": "text/x-python",
   "name": "python",
   "nbconvert_exporter": "python",
   "pygments_lexer": "ipython3",
   "version": "3.10.10"
  }
 },
 "nbformat": 4,
 "nbformat_minor": 5
}
