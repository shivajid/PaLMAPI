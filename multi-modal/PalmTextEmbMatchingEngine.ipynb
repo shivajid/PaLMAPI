{
 "cells": [
  {
   "cell_type": "code",
   "execution_count": 1,
   "id": "81c177e0-0919-4340-bb61-7659f45ba7d0",
   "metadata": {},
   "outputs": [],
   "source": [
    "PROJECT_ID = \"demogct2022\"\n",
    "REGION = \"us-central1\"\n",
    "ENDPOINT = \"{}-aiplatform.googleapis.com\".format(REGION)\n",
    "PARENT = \"projects/{}/locations/{}\".format(PROJECT_ID, REGION)"
   ]
  },
  {
   "cell_type": "code",
   "execution_count": 2,
   "id": "8afbeabe-5339-4a37-ab41-25ecaa42b621",
   "metadata": {},
   "outputs": [],
   "source": [
    "from google.cloud import aiplatform_v1beta1\n",
    "from google.protobuf import struct_pb2\n",
    "import time\n",
    "\n",
    "\n",
    "index_client = aiplatform_v1beta1.IndexServiceClient(\n",
    "    client_options=dict(api_endpoint=ENDPOINT)\n",
    ")\n"
   ]
  },
  {
   "cell_type": "code",
   "execution_count": 4,
   "id": "9c2e730d-0dd7-4569-9c63-c4ef7124f546",
   "metadata": {},
   "outputs": [
    {
     "name": "stdout",
     "output_type": "stream",
     "text": [
      "gs://vertex-gen-ai/mjembedding/text/palm/114k_PALM_Embedding.csv\n"
     ]
    }
   ],
   "source": [
    "!gsutil ls gs://vertex-gen-ai/mjembedding/text/palm/"
   ]
  },
  {
   "cell_type": "code",
   "execution_count": 8,
   "id": "773df332-daf5-494d-97b6-a4a10b9dafc8",
   "metadata": {},
   "outputs": [],
   "source": [
    "DIMENSIONS = 768\n",
    "DISPLAY_NAME = \"MJ_TEXT_MultiModal_768\"\n",
    "BUCKET_ROOT= \"gs://vertex-gen-ai/mjembedding/text/palm/\""
   ]
  },
  {
   "cell_type": "code",
   "execution_count": 9,
   "id": "b7383e90-3ab5-4673-93cf-c123711d5e3d",
   "metadata": {},
   "outputs": [],
   "source": [
    "treeAhConfig = struct_pb2.Struct(\n",
    "    fields={\n",
    "        \"leafNodeEmbeddingCount\": struct_pb2.Value(number_value=2000),\n",
    "        \"leafNodesToSearchPercent\": struct_pb2.Value(number_value=20),\n",
    "    }\n",
    ")\n",
    "\n",
    "\n",
    "algorithmConfig = struct_pb2.Struct(\n",
    "    fields={\"treeAhConfig\": struct_pb2.Value(struct_value=treeAhConfig)}\n",
    ")\n",
    "\n",
    "\n",
    "config = struct_pb2.Struct(\n",
    "    fields={\n",
    "        \"dimensions\": struct_pb2.Value(number_value=DIMENSIONS),\n",
    "        \"approximateNeighborsCount\": struct_pb2.Value(number_value=500),\n",
    "        \"distanceMeasureType\": struct_pb2.Value(string_value=\"DOT_PRODUCT_DISTANCE\"),\n",
    "        \"algorithmConfig\": struct_pb2.Value(struct_value=algorithmConfig),\n",
    "    }\n",
    ")\n",
    "\n",
    "\n",
    "metadata = struct_pb2.Struct(\n",
    "    fields={\n",
    "        \"config\": struct_pb2.Value(struct_value=config),\n",
    "        \"contentsDeltaUri\": struct_pb2.Value(string_value=BUCKET_ROOT),\n",
    "    }\n",
    ")\n",
    "\n",
    "ann_index = {\n",
    "    \"display_name\": DISPLAY_NAME,\n",
    "    \"description\": \"Mid Journey 114K Image Embedding\",\n",
    "    \"metadata\": struct_pb2.Value(struct_value=metadata),\n",
    "}\n"
   ]
  },
  {
   "cell_type": "code",
   "execution_count": null,
   "id": "2bf17737-03ad-42cb-bf79-33efca7c7e78",
   "metadata": {},
   "outputs": [],
   "source": []
  },
  {
   "cell_type": "code",
   "execution_count": 10,
   "id": "e84f4fc0-0df7-4ce7-b13c-390670da3dba",
   "metadata": {},
   "outputs": [],
   "source": [
    "ann_index = index_client.create_index(parent=PARENT, index=ann_index)"
   ]
  },
  {
   "cell_type": "code",
   "execution_count": 11,
   "id": "460e22c9-2ed3-46b9-908a-0351b08f2055",
   "metadata": {},
   "outputs": [
    {
     "data": {
      "text/plain": [
       "name: \"projects/353713988661/locations/us-central1/indexes/7487471875015049216\""
      ]
     },
     "execution_count": 11,
     "metadata": {},
     "output_type": "execute_result"
    }
   ],
   "source": [
    "ann_index.result()"
   ]
  },
  {
   "cell_type": "code",
   "execution_count": 12,
   "id": "9829b11c-1d53-4657-975f-e4f683dab552",
   "metadata": {},
   "outputs": [
    {
     "data": {
      "text/plain": [
       "'projects/353713988661/locations/us-central1/indexes/7487471875015049216'"
      ]
     },
     "execution_count": 12,
     "metadata": {},
     "output_type": "execute_result"
    }
   ],
   "source": [
    "INDEX_RESOURCE_NAME = ann_index.result().name\n",
    "INDEX_RESOURCE_NAME\n"
   ]
  },
  {
   "cell_type": "code",
   "execution_count": 13,
   "id": "c07fcd48-7312-495b-b47d-cf8c84c925e3",
   "metadata": {},
   "outputs": [
    {
     "name": "stdout",
     "output_type": "stream",
     "text": [
      "Overwriting text_index_endpoint.json\n"
     ]
    }
   ],
   "source": [
    "%%writefile text_index_endpoint.json\n",
    "{\n",
    "  \"display_name\": \"MJ-palm-text-index-public-endpoint\", \n",
    "    \"publicEndpointEnabled\":\"true\"\n",
    " \n",
    "}\n"
   ]
  },
  {
   "cell_type": "code",
   "execution_count": 14,
   "id": "ac313532-3018-4a8b-9d8f-e03c25283f74",
   "metadata": {},
   "outputs": [
    {
     "name": "stdout",
     "output_type": "stream",
     "text": [
      "{\n",
      "  \"name\": \"projects/353713988661/locations/us-central1/indexEndpoints/7618076264208793600/operations/65792782941290496\",\n",
      "  \"metadata\": {\n",
      "    \"@type\": \"type.googleapis.com/google.cloud.aiplatform.v1.CreateIndexEndpointOperationMetadata\",\n",
      "    \"genericMetadata\": {\n",
      "      \"createTime\": \"2023-06-11T08:35:39.568726Z\",\n",
      "      \"updateTime\": \"2023-06-11T08:35:39.568726Z\"\n",
      "    }\n",
      "  }\n",
      "}\n"
     ]
    }
   ],
   "source": [
    "!curl -X POST     -H \"Authorization: Bearer $(gcloud auth print-access-token)\"     -H \"Content-Type: application/json; charset=utf-8\"     -d @text_index_endpoint.json     \"https://us-central1-aiplatform.googleapis.com/v1/projects/demogct2022/locations/us-central1/indexEndpoints\"\n"
   ]
  },
  {
   "cell_type": "code",
   "execution_count": 19,
   "id": "a732c1f5-ff42-423d-9612-6d4d56c52c9b",
   "metadata": {},
   "outputs": [
    {
     "name": "stdout",
     "output_type": "stream",
     "text": [
      "Overwriting text_index_endpoint_deploy.json\n"
     ]
    }
   ],
   "source": [
    "%%writefile text_index_endpoint_deploy.json\n",
    "{\n",
    "  \"deployedIndex\": {\n",
    "    \"id\": \"mj_palm_text_index_public_endpoint_v2\",\n",
    "    \"index\": \"projects/353713988661/locations/us-central1/indexes/7487471875015049216\",\n",
    "    \"displayName\": \"public endpoint for mj palm index service\"\n",
    "  }\n",
    "}\n"
   ]
  },
  {
   "cell_type": "code",
   "execution_count": 20,
   "id": "1b44f70c-1c99-4c87-86ac-d85f3989b844",
   "metadata": {},
   "outputs": [
    {
     "name": "stdout",
     "output_type": "stream",
     "text": [
      "{\n",
      "  \"name\": \"projects/353713988661/locations/us-central1/indexEndpoints/7618076264208793600/operations/6676232610991046656\",\n",
      "  \"metadata\": {\n",
      "    \"@type\": \"type.googleapis.com/google.cloud.aiplatform.v1.DeployIndexOperationMetadata\",\n",
      "    \"genericMetadata\": {\n",
      "      \"createTime\": \"2023-06-11T08:39:21.257948Z\",\n",
      "      \"updateTime\": \"2023-06-11T08:39:21.257948Z\"\n",
      "    },\n",
      "    \"deployedIndexId\": \"mj_palm_text_index_public_endpoint_v2\"\n",
      "  }\n",
      "}\n"
     ]
    }
   ],
   "source": [
    "!curl -X POST     -H \"Authorization: Bearer $(gcloud auth print-access-token)\"     -H \"Content-Type: application/json; charset=utf-8\"     -d @text_index_endpoint_deploy.json     \"https://us-central1-aiplatform.googleapis.com/v1/projects/demogct2022/locations/us-central1/indexEndpoints/7618076264208793600:deployIndex\""
   ]
  },
  {
   "cell_type": "code",
   "execution_count": 14,
   "id": "8388798f-1293-4e66-8d88-0dc28b80371c",
   "metadata": {},
   "outputs": [
    {
     "name": "stdout",
     "output_type": "stream",
     "text": [
      "{\n",
      "  \"name\": \"projects/353713988661/locations/us-central1/indexEndpoints/4421646428682584064\",\n",
      "  \"displayName\": \"MJ-text-index-public-endpoint\",\n",
      "  \"deployedIndexes\": [\n",
      "    {\n",
      "      \"id\": \"mj_text_index_public_endpoint\",\n",
      "      \"index\": \"projects/353713988661/locations/us-central1/indexes/1794921946018742272\",\n",
      "      \"displayName\": \"public endpoint for imdb index service\",\n",
      "      \"createTime\": \"2023-06-10T04:35:42.615422Z\",\n",
      "      \"indexSyncTime\": \"2023-06-10T04:50:50.956125Z\",\n",
      "      \"automaticResources\": {\n",
      "        \"minReplicaCount\": 2,\n",
      "        \"maxReplicaCount\": 2\n",
      "      },\n",
      "      \"deploymentGroup\": \"default\"\n",
      "    }\n",
      "  ],\n",
      "  \"etag\": \"AMEw9yMHvP-5bUGRsZzgH74I2retykj_UCx3QiNWZ877vEch2hnlVcpfcTc1wjJmBHrX\",\n",
      "  \"createTime\": \"2023-06-10T04:30:30.567719Z\",\n",
      "  \"updateTime\": \"2023-06-10T04:30:31.271865Z\",\n",
      "  \"publicEndpointDomainName\": \"547915122.us-central1-353713988661.vdb.vertexai.goog\"\n",
      "}\n"
     ]
    }
   ],
   "source": [
    "!curl -H \"Content-Type: application/json\" -H \"Authorization: Bearer `gcloud auth print-access-token`\" \"https://us-central1-aiplatform.googleapis.com/v1/projects/demogct2022/locations/us-central1/indexEndpoints/4421646428682584064\""
   ]
  },
  {
   "cell_type": "code",
   "execution_count": 16,
   "id": "6453bbed-8300-47d1-88f5-23e0780601f2",
   "metadata": {},
   "outputs": [],
   "source": [
    "from google.oauth2 import service_account\n",
    "from google.cloud import aiplatform_v1beta1\n",
    " \n",
    "def findneighbor_sample(val):\n",
    "  # The AI Platform services require regional API endpoints.\n",
    "  scopes = [\"https://www.googleapis.com/auth/cloud-platform\"]\n",
    "  \n",
    "  # create a service account with `Vertex AI User` role granted in IAM page.\n",
    "  # download the service account key https://developers.google.com/identity/protocols/oauth2/service-account#authorizingrequests\n",
    "  sa_file_path = \"/home/jupyter/demogct2022-ca8b4e443d11.json\"\n",
    " \n",
    "  credentials = service_account.Credentials.from_service_account_file(\n",
    "      sa_file_path, scopes=scopes\n",
    "  )\n",
    "  client_options = {\n",
    "      \"api_endpoint\": \"547915122.us-central1-353713988661.vdb.vertexai.goog\"\n",
    "  }\n",
    " \n",
    "  vertex_ai_client = aiplatform_v1beta1.MatchServiceClient(\n",
    "      credentials=credentials,\n",
    "      client_options=client_options,\n",
    "  )\n",
    " \n",
    "  request = aiplatform_v1beta1.FindNeighborsRequest(\n",
    "      index_endpoint=\"projects/353713988661/locations/us-central1/indexEndpoints/4421646428682584064\",\n",
    "      deployed_index_id=\"mj_text_index_public_endpoint\",\n",
    "  )\n",
    "  dp1 = aiplatform_v1beta1.IndexDatapoint(\n",
    "      datapoint_id=\"0\",\n",
    "      feature_vector=val,\n",
    "  )\n",
    "  query = aiplatform_v1beta1.FindNeighborsRequest.Query(\n",
    "      datapoint=dp1,\n",
    "  )\n",
    "  request.queries.append(query)\n",
    " \n",
    "  response = vertex_ai_client.find_neighbors(request)\n",
    "  return response"
   ]
  },
  {
   "cell_type": "code",
   "execution_count": null,
   "id": "f3e374b3-0740-4d5d-9670-381bb307deae",
   "metadata": {},
   "outputs": [],
   "source": []
  }
 ],
 "metadata": {
  "environment": {
   "kernel": "python3",
   "name": "tf2-gpu.2-8.m102",
   "type": "gcloud",
   "uri": "gcr.io/deeplearning-platform-release/tf2-gpu.2-8:m102"
  },
  "kernelspec": {
   "display_name": "Python 3 (ipykernel)",
   "language": "python",
   "name": "python3"
  },
  "language_info": {
   "codemirror_mode": {
    "name": "ipython",
    "version": 3
   },
   "file_extension": ".py",
   "mimetype": "text/x-python",
   "name": "python",
   "nbconvert_exporter": "python",
   "pygments_lexer": "ipython3",
   "version": "3.7.12"
  }
 },
 "nbformat": 4,
 "nbformat_minor": 5
}
