{
 "cells": [
  {
   "cell_type": "code",
   "execution_count": 1,
   "id": "81c177e0-0919-4340-bb61-7659f45ba7d0",
   "metadata": {},
   "outputs": [],
   "source": [
    "PROJECT_ID = \"demogct2022\"\n",
    "REGION = \"us-central1\"\n",
    "ENDPOINT = \"{}-aiplatform.googleapis.com\".format(REGION)\n",
    "PARENT = \"projects/{}/locations/{}\".format(PROJECT_ID, REGION)"
   ]
  },
  {
   "cell_type": "code",
   "execution_count": 2,
   "id": "8afbeabe-5339-4a37-ab41-25ecaa42b621",
   "metadata": {},
   "outputs": [],
   "source": [
    "from google.cloud import aiplatform_v1beta1\n",
    "from google.protobuf import struct_pb2\n",
    "import time\n",
    "\n",
    "\n",
    "index_client = aiplatform_v1beta1.IndexServiceClient(\n",
    "    client_options=dict(api_endpoint=ENDPOINT)\n",
    ")\n"
   ]
  },
  {
   "cell_type": "code",
   "execution_count": 3,
   "id": "773df332-daf5-494d-97b6-a4a10b9dafc8",
   "metadata": {},
   "outputs": [],
   "source": [
    "DIMENSIONS = 1024\n",
    "DISPLAY_NAME = \"MJ_MultiModal_1024_1\"\n",
    "BUCKET_ROOT= \"gs://vertex-gen-ai/mjembeddings/\""
   ]
  },
  {
   "cell_type": "code",
   "execution_count": 4,
   "id": "b7383e90-3ab5-4673-93cf-c123711d5e3d",
   "metadata": {},
   "outputs": [],
   "source": [
    "treeAhConfig = struct_pb2.Struct(\n",
    "    fields={\n",
    "        \"leafNodeEmbeddingCount\": struct_pb2.Value(number_value=2000),\n",
    "        \"leafNodesToSearchPercent\": struct_pb2.Value(number_value=20),\n",
    "    }\n",
    ")\n",
    "\n",
    "\n",
    "algorithmConfig = struct_pb2.Struct(\n",
    "    fields={\"treeAhConfig\": struct_pb2.Value(struct_value=treeAhConfig)}\n",
    ")\n",
    "\n",
    "\n",
    "config = struct_pb2.Struct(\n",
    "    fields={\n",
    "        \"dimensions\": struct_pb2.Value(number_value=DIMENSIONS),\n",
    "        \"approximateNeighborsCount\": struct_pb2.Value(number_value=500),\n",
    "        \"distanceMeasureType\": struct_pb2.Value(string_value=\"DOT_PRODUCT_DISTANCE\"),\n",
    "        \"algorithmConfig\": struct_pb2.Value(struct_value=algorithmConfig),\n",
    "    }\n",
    ")\n",
    "\n",
    "\n",
    "metadata = struct_pb2.Struct(\n",
    "    fields={\n",
    "        \"config\": struct_pb2.Value(struct_value=config),\n",
    "        \"contentsDeltaUri\": struct_pb2.Value(string_value=BUCKET_ROOT),\n",
    "    }\n",
    ")\n",
    "\n",
    "ann_index = {\n",
    "    \"display_name\": DISPLAY_NAME,\n",
    "    \"description\": \"Mid Journey 114K Image Embedding\",\n",
    "    \"metadata\": struct_pb2.Value(struct_value=metadata),\n",
    "}\n"
   ]
  },
  {
   "cell_type": "code",
   "execution_count": 5,
   "id": "e84f4fc0-0df7-4ce7-b13c-390670da3dba",
   "metadata": {},
   "outputs": [],
   "source": [
    "ann_index = index_client.create_index(parent=PARENT, index=ann_index)"
   ]
  },
  {
   "cell_type": "code",
   "execution_count": 7,
   "id": "460e22c9-2ed3-46b9-908a-0351b08f2055",
   "metadata": {},
   "outputs": [
    {
     "data": {
      "text/plain": [
       "name: \"projects/353713988661/locations/us-central1/indexes/2715908069816008704\""
      ]
     },
     "execution_count": 7,
     "metadata": {},
     "output_type": "execute_result"
    }
   ],
   "source": [
    "ann_index.result()"
   ]
  },
  {
   "cell_type": "code",
   "execution_count": 8,
   "id": "9829b11c-1d53-4657-975f-e4f683dab552",
   "metadata": {},
   "outputs": [
    {
     "data": {
      "text/plain": [
       "'projects/353713988661/locations/us-central1/indexes/2715908069816008704'"
      ]
     },
     "execution_count": 8,
     "metadata": {},
     "output_type": "execute_result"
    }
   ],
   "source": [
    "INDEX_RESOURCE_NAME = ann_index.result().name\n",
    "INDEX_RESOURCE_NAME\n"
   ]
  },
  {
   "cell_type": "code",
   "execution_count": null,
   "id": "b00d6db4-501f-4b9f-97bd-d9a21e43a72a",
   "metadata": {},
   "outputs": [],
   "source": []
  }
 ],
 "metadata": {
  "environment": {
   "kernel": "python3",
   "name": "tf2-gpu.2-8.m102",
   "type": "gcloud",
   "uri": "gcr.io/deeplearning-platform-release/tf2-gpu.2-8:m102"
  },
  "kernelspec": {
   "display_name": "Python 3 (ipykernel)",
   "language": "python",
   "name": "python3"
  },
  "language_info": {
   "codemirror_mode": {
    "name": "ipython",
    "version": 3
   },
   "file_extension": ".py",
   "mimetype": "text/x-python",
   "name": "python",
   "nbconvert_exporter": "python",
   "pygments_lexer": "ipython3",
   "version": "3.7.12"
  }
 },
 "nbformat": 4,
 "nbformat_minor": 5
}
